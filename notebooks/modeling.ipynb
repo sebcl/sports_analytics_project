{
 "cells": [
  {
   "cell_type": "code",
   "execution_count": 1,
   "metadata": {},
   "outputs": [],
   "source": [
    "import pandas as pd \n",
    "import numpy as np\n",
    "from sklearn.linear_model import LinearRegression\n",
    "from sklearn.model_selection import train_test_split\n",
    "import matplotlib.pyplot as plt\n",
    "import seaborn as sns\n",
    "import statsmodels.api as sm\n",
    "\n",
    "from matplotlib import colors\n",
    "from matplotlib.ticker import PercentFormatter\n",
    "# regression analysis\n",
    "\n",
    "\n",
    "import sys\n",
    "import os\n",
    "from pathlib import Path\n",
    "\n",
    "module_path = os.path.abspath(os.path.join('..'))\n",
    "if module_path not in sys.path:\n",
    "    sys.path.append(module_path+\"\\\\utils\")\n",
    "\n",
    "from players_season_builder import *\n"
   ]
  },
  {
   "cell_type": "markdown",
   "metadata": {},
   "source": [
    "For the independent variables, we have:\n",
    "    Player Quality – Estimated as being the constant in the regression model\n",
    "    Home Court Advantage – A binary variable that indicates if the player is at home or on the road\n",
    "    Opp. Quality – The opponent’s quality will be estimated by 2 variables: its offensive and its defensive efficiency (points allowed/scored per 100 possessions)\n",
    "    Rest Level – To estimate a player’s rest level, we create variables to reflect the activity for the past 3 days. There are two approaches for these variables:\n",
    "    Minutes – There are 3 variables (non-dummy) that reflect how many minutes the player was on court for each of the past 3 days\n",
    "    Days-off – The variables reflect if the player entered a game, no matter how much he played (e.g., the dummy “011”, means that the team has played 2 and 3 days ago, and has not played yesterday)\n",
    "\n",
    "This results in the following regression model (using the “minutes” approach for rest level):\n",
    "\n",
    "    PER= α + C * H + ( C * OO + C * OD ) + ( C * M1 + C * M2 + C * M3 ) + nu + err\n",
    "\n",
    "Where:\n",
    "    PER = Player Efficiency Rating (for the game)\n",
    "    α = Constant (that can be interpreted as a player’s baseline performance)\n",
    "    H = Binary variable that is 1 if the player is playing at home, and 0 if he is playing on the road\n",
    "    OO = Opponent’s offensive efficiency during the season\n",
    "    OD = Opponent’s team defensive efficiency during the season\n",
    "    M1/M2/M3 = Number of minutes the player has played 1, 2, and 3 days before the game\n",
    "    nu = PER for all other games in the season\n",
    "    \n"
   ]
  },
  {
   "cell_type": "code",
   "execution_count": 15,
   "metadata": {},
   "outputs": [],
   "source": [
    "player_path = r\"\\Users\\sebas\\Desktop\\UChicago - Q6\\Sports Analytics\\sports_analytics_project\\data\\BDB_Player.xlsx\"\n",
    "\n",
    "df_player = pd.read_excel(player_path)\n"
   ]
  },
  {
   "cell_type": "code",
   "execution_count": 25,
   "metadata": {},
   "outputs": [
    {
     "name": "stdout",
     "output_type": "stream",
     "text": [
      "(173750, 62)\n"
     ]
    }
   ],
   "source": [
    "df_player.columns = ['DATASET', 'DATE', 'PLAYER FULL NAME', 'POSITION', 'OWN TEAM',\n",
    "       'OPP TEAM', 'VENUE', 'MIN', 'FG', 'FGA', '3P', '3PA', 'FT', 'FTA', 'OR',\n",
    "       'DR', 'TOT', 'A', 'PF', 'ST', 'TO', 'BL', 'PTS', 'PER', 'DATE-DIFF',\n",
    "       'RR VAL', 'RR SERIES', 'S_PER', 'I_PER', 'SAME CITY', 'TRAVEL',\n",
    "       '1.0 days', '10.0 days', '11.0 days', '12.0 days', '13.0 days',\n",
    "       '14+ days', '14.0 days', '2.0 days', '3.0 days', '4.0 days', '5.0 days',\n",
    "       '6.0 days', '7.0 days', '8.0 days', '9.0 days', 'Season Start days',\n",
    "       'H', 'R', 'H-M1', 'H-M2', 'H-M3', 'R-M1', 'R-M2', 'R-M3', 'M1', 'M2',\n",
    "       'M3', 'S_OEFF', 'S_DEFF', 'I_OEFF', 'I_DEFF']\n",
    "print(df_player.shape)"
   ]
  },
  {
   "cell_type": "code",
   "execution_count": 31,
   "metadata": {},
   "outputs": [],
   "source": [
    "\n",
    "\n",
    "df_filter = df_player[df_player['I_PER'].notnull()]\n",
    "# Define LHS\n",
    "y = np.array(df_filter[['PER']])\n",
    "\n",
    "# Define RHS\n",
    "# Missing - 'ACCURATE' Travel \n",
    "# Missing - OPP Offensive efficiency\n",
    "# Missing - OPP Defensive efficiency\n",
    "# Missing - Am I at Home?\n",
    "# Missing - Minutes played in last 3 days?\n",
    "\n",
    "x = np.array(\n",
    "    df_filter[[\n",
    "       'H', 'I_OEFF','I_DEFF', 'I_PER', 'M1', 'M2', 'M3', '1.0 days', '2.0 days', '3.0 days', '4.0 days', '5.0 days', '6.0 days', '7.0 days']]\n",
    ")\n",
    "# '8.0 days', '9.0 days', '10.0 days', '11.0 days', '12.0 days', '13.0 days','14.0 days', '14+ days'\n",
    "x = sm.add_constant(x)"
   ]
  },
  {
   "cell_type": "code",
   "execution_count": 43,
   "metadata": {},
   "outputs": [
    {
     "data": {
      "text/plain": [
       "array([-1.01617527e+01,  6.03034103e-01, -4.04786768e-02,  1.41621478e-01,\n",
       "        8.95822986e-01,  5.90245733e-03,  7.80308455e-03,  1.35402987e-03,\n",
       "       -1.41956283e-01, -2.31273259e-02,  1.17779590e-01,  7.83426624e-02,\n",
       "        5.50130352e-02, -2.90476557e-01, -2.22152203e-02])"
      ]
     },
     "execution_count": 43,
     "metadata": {},
     "output_type": "execute_result"
    }
   ],
   "source": [
    "player_per_model = sm.OLS(y , x)\n",
    "results = player_per_model.fit()\n",
    "results.params"
   ]
  },
  {
   "cell_type": "code",
   "execution_count": 51,
   "metadata": {},
   "outputs": [
    {
     "data": {
      "text/html": [
       "<table class=\"simpletable\">\n",
       "<caption>OLS Regression Results</caption>\n",
       "<tr>\n",
       "  <th>Dep. Variable:</th>            <td>y</td>        <th>  R-squared:         </th>  <td>   0.200</td>  \n",
       "</tr>\n",
       "<tr>\n",
       "  <th>Model:</th>                   <td>OLS</td>       <th>  Adj. R-squared:    </th>  <td>   0.200</td>  \n",
       "</tr>\n",
       "<tr>\n",
       "  <th>Method:</th>             <td>Least Squares</td>  <th>  F-statistic:       </th>  <td>   3086.</td>  \n",
       "</tr>\n",
       "<tr>\n",
       "  <th>Date:</th>             <td>Sun, 01 May 2022</td> <th>  Prob (F-statistic):</th>   <td>  0.00</td>   \n",
       "</tr>\n",
       "<tr>\n",
       "  <th>Time:</th>                 <td>21:58:30</td>     <th>  Log-Likelihood:    </th> <td>-5.7564e+05</td>\n",
       "</tr>\n",
       "<tr>\n",
       "  <th>No. Observations:</th>      <td>173289</td>      <th>  AIC:               </th>  <td>1.151e+06</td> \n",
       "</tr>\n",
       "<tr>\n",
       "  <th>Df Residuals:</th>          <td>173274</td>      <th>  BIC:               </th>  <td>1.151e+06</td> \n",
       "</tr>\n",
       "<tr>\n",
       "  <th>Df Model:</th>              <td>    14</td>      <th>                     </th>      <td> </td>     \n",
       "</tr>\n",
       "<tr>\n",
       "  <th>Covariance Type:</th>      <td>nonrobust</td>    <th>                     </th>      <td> </td>     \n",
       "</tr>\n",
       "</table>\n",
       "<table class=\"simpletable\">\n",
       "<tr>\n",
       "    <td></td>       <th>coef</th>     <th>std err</th>      <th>t</th>      <th>P>|t|</th>  <th>[0.025</th>    <th>0.975]</th>  \n",
       "</tr>\n",
       "<tr>\n",
       "  <th>const</th> <td>  -10.1618</td> <td>    0.702</td> <td>  -14.475</td> <td> 0.000</td> <td>  -11.538</td> <td>   -8.786</td>\n",
       "</tr>\n",
       "<tr>\n",
       "  <th>x1</th>    <td>    0.6030</td> <td>    0.033</td> <td>   18.425</td> <td> 0.000</td> <td>    0.539</td> <td>    0.667</td>\n",
       "</tr>\n",
       "<tr>\n",
       "  <th>x2</th>    <td>   -0.0405</td> <td>    0.004</td> <td>   -9.022</td> <td> 0.000</td> <td>   -0.049</td> <td>   -0.032</td>\n",
       "</tr>\n",
       "<tr>\n",
       "  <th>x3</th>    <td>    0.1416</td> <td>    0.005</td> <td>   29.905</td> <td> 0.000</td> <td>    0.132</td> <td>    0.151</td>\n",
       "</tr>\n",
       "<tr>\n",
       "  <th>x4</th>    <td>    0.8958</td> <td>    0.004</td> <td>  199.622</td> <td> 0.000</td> <td>    0.887</td> <td>    0.905</td>\n",
       "</tr>\n",
       "<tr>\n",
       "  <th>x5</th>    <td>    0.0059</td> <td>    0.004</td> <td>    1.617</td> <td> 0.106</td> <td>   -0.001</td> <td>    0.013</td>\n",
       "</tr>\n",
       "<tr>\n",
       "  <th>x6</th>    <td>    0.0078</td> <td>    0.003</td> <td>    3.048</td> <td> 0.002</td> <td>    0.003</td> <td>    0.013</td>\n",
       "</tr>\n",
       "<tr>\n",
       "  <th>x7</th>    <td>    0.0014</td> <td>    0.001</td> <td>    1.036</td> <td> 0.300</td> <td>   -0.001</td> <td>    0.004</td>\n",
       "</tr>\n",
       "<tr>\n",
       "  <th>x8</th>    <td>   -0.1420</td> <td>    0.127</td> <td>   -1.120</td> <td> 0.263</td> <td>   -0.390</td> <td>    0.107</td>\n",
       "</tr>\n",
       "<tr>\n",
       "  <th>x9</th>    <td>   -0.0231</td> <td>    0.087</td> <td>   -0.265</td> <td> 0.791</td> <td>   -0.194</td> <td>    0.148</td>\n",
       "</tr>\n",
       "<tr>\n",
       "  <th>x10</th>   <td>    0.1178</td> <td>    0.076</td> <td>    1.558</td> <td> 0.119</td> <td>   -0.030</td> <td>    0.266</td>\n",
       "</tr>\n",
       "<tr>\n",
       "  <th>x11</th>   <td>    0.0783</td> <td>    0.079</td> <td>    0.987</td> <td> 0.324</td> <td>   -0.077</td> <td>    0.234</td>\n",
       "</tr>\n",
       "<tr>\n",
       "  <th>x12</th>   <td>    0.0550</td> <td>    0.103</td> <td>    0.535</td> <td> 0.593</td> <td>   -0.147</td> <td>    0.257</td>\n",
       "</tr>\n",
       "<tr>\n",
       "  <th>x13</th>   <td>   -0.2905</td> <td>    0.120</td> <td>   -2.428</td> <td> 0.015</td> <td>   -0.525</td> <td>   -0.056</td>\n",
       "</tr>\n",
       "<tr>\n",
       "  <th>x14</th>   <td>   -0.0222</td> <td>    0.135</td> <td>   -0.165</td> <td> 0.869</td> <td>   -0.287</td> <td>    0.242</td>\n",
       "</tr>\n",
       "</table>\n",
       "<table class=\"simpletable\">\n",
       "<tr>\n",
       "  <th>Omnibus:</th>       <td>4105.580</td> <th>  Durbin-Watson:     </th> <td>   2.023</td>\n",
       "</tr>\n",
       "<tr>\n",
       "  <th>Prob(Omnibus):</th>  <td> 0.000</td>  <th>  Jarque-Bera (JB):  </th> <td>4737.664</td>\n",
       "</tr>\n",
       "<tr>\n",
       "  <th>Skew:</th>           <td> 0.339</td>  <th>  Prob(JB):          </th> <td>    0.00</td>\n",
       "</tr>\n",
       "<tr>\n",
       "  <th>Kurtosis:</th>       <td> 3.444</td>  <th>  Cond. No.          </th> <td>6.73e+03</td>\n",
       "</tr>\n",
       "</table><br/><br/>Notes:<br/>[1] Standard Errors assume that the covariance matrix of the errors is correctly specified.<br/>[2] The condition number is large, 6.73e+03. This might indicate that there are<br/>strong multicollinearity or other numerical problems."
      ],
      "text/plain": [
       "<class 'statsmodels.iolib.summary.Summary'>\n",
       "\"\"\"\n",
       "                            OLS Regression Results                            \n",
       "==============================================================================\n",
       "Dep. Variable:                      y   R-squared:                       0.200\n",
       "Model:                            OLS   Adj. R-squared:                  0.200\n",
       "Method:                 Least Squares   F-statistic:                     3086.\n",
       "Date:                Sun, 01 May 2022   Prob (F-statistic):               0.00\n",
       "Time:                        21:58:30   Log-Likelihood:            -5.7564e+05\n",
       "No. Observations:              173289   AIC:                         1.151e+06\n",
       "Df Residuals:                  173274   BIC:                         1.151e+06\n",
       "Df Model:                          14                                         \n",
       "Covariance Type:            nonrobust                                         \n",
       "==============================================================================\n",
       "                 coef    std err          t      P>|t|      [0.025      0.975]\n",
       "------------------------------------------------------------------------------\n",
       "const        -10.1618      0.702    -14.475      0.000     -11.538      -8.786\n",
       "x1             0.6030      0.033     18.425      0.000       0.539       0.667\n",
       "x2            -0.0405      0.004     -9.022      0.000      -0.049      -0.032\n",
       "x3             0.1416      0.005     29.905      0.000       0.132       0.151\n",
       "x4             0.8958      0.004    199.622      0.000       0.887       0.905\n",
       "x5             0.0059      0.004      1.617      0.106      -0.001       0.013\n",
       "x6             0.0078      0.003      3.048      0.002       0.003       0.013\n",
       "x7             0.0014      0.001      1.036      0.300      -0.001       0.004\n",
       "x8            -0.1420      0.127     -1.120      0.263      -0.390       0.107\n",
       "x9            -0.0231      0.087     -0.265      0.791      -0.194       0.148\n",
       "x10            0.1178      0.076      1.558      0.119      -0.030       0.266\n",
       "x11            0.0783      0.079      0.987      0.324      -0.077       0.234\n",
       "x12            0.0550      0.103      0.535      0.593      -0.147       0.257\n",
       "x13           -0.2905      0.120     -2.428      0.015      -0.525      -0.056\n",
       "x14           -0.0222      0.135     -0.165      0.869      -0.287       0.242\n",
       "==============================================================================\n",
       "Omnibus:                     4105.580   Durbin-Watson:                   2.023\n",
       "Prob(Omnibus):                  0.000   Jarque-Bera (JB):             4737.664\n",
       "Skew:                           0.339   Prob(JB):                         0.00\n",
       "Kurtosis:                       3.444   Cond. No.                     6.73e+03\n",
       "==============================================================================\n",
       "\n",
       "Notes:\n",
       "[1] Standard Errors assume that the covariance matrix of the errors is correctly specified.\n",
       "[2] The condition number is large, 6.73e+03. This might indicate that there are\n",
       "strong multicollinearity or other numerical problems.\n",
       "\"\"\""
      ]
     },
     "execution_count": 51,
     "metadata": {},
     "output_type": "execute_result"
    }
   ],
   "source": [
    "results.summary()\n",
    "# pd.DataFrame(\n",
    "#    results.tvalues, results.params, ['Intercept','H', 'I_OEFF','I_DEFF', 'I_PER', 'M1', 'M2', 'M3', '1.0 days', '2.0 days', '3.0 days', '4.0 days', '5.0 days', '6.0 days', '7.0 days'])"
   ]
  }
 ],
 "metadata": {
  "interpreter": {
   "hash": "63fd5069d213b44bf678585dea6b12cceca9941eaf7f819626cde1f2670de90d"
  },
  "kernelspec": {
   "display_name": "Python 3.9.4 64-bit",
   "language": "python",
   "name": "python3"
  },
  "language_info": {
   "codemirror_mode": {
    "name": "ipython",
    "version": 3
   },
   "file_extension": ".py",
   "mimetype": "text/x-python",
   "name": "python",
   "nbconvert_exporter": "python",
   "pygments_lexer": "ipython3",
   "version": "3.9.4"
  },
  "orig_nbformat": 4
 },
 "nbformat": 4,
 "nbformat_minor": 2
}
