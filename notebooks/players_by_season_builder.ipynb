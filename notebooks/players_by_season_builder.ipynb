{
 "cells": [
  {
   "cell_type": "code",
   "execution_count": 64,
   "metadata": {},
   "outputs": [],
   "source": [
    "import pandas as pd\n",
    "import numpy as np\n",
    "import openpyxl\n",
    "import sys\n",
    "import os\n",
    "from pathlib import Path\n",
    "import datetime\n",
    "\n",
    "module_path = os.path.abspath(os.path.join('..'))\n",
    "if module_path not in sys.path:\n",
    "    sys.path.append(module_path+\"\\\\utils\")\n",
    "\n",
    "from players_season_builder import *"
   ]
  },
  {
   "cell_type": "code",
   "execution_count": 65,
   "metadata": {},
   "outputs": [],
   "source": [
    "player_path = r\"\\Users\\sebas\\Desktop\\UChicago - Q6\\Sports Analytics\\sports_analytics_project\\data\\Big Data - Player\\1. Player\"\n",
    "file_type, sheet_name = \"xlsx\" , 0\n",
    "data_source = \"BDB-PLAYER\"\n",
    "\n",
    "player_season_data = combine_xl_data(player_path, file_type, sheet_name, data_source)"
   ]
  },
  {
   "cell_type": "code",
   "execution_count": 66,
   "metadata": {},
   "outputs": [],
   "source": [
    "player_per_data = pd.read_excel(\n",
    "    r\"\\Users\\sebas\\Desktop\\UChicago - Q6\\Sports Analytics\\sports_analytics_project\\data\\Player Per Game PER Data.xlsx\",\n",
    "    sheet_name='Agg PER >24mins,NoPlayoffs')\n",
    "player_per_data.columns = ['DATASET', 'DATE', 'PLAYER FULL NAME', 'OWN TEAM', 'MIN', 'PER']\n"
   ]
  },
  {
   "cell_type": "code",
   "execution_count": 67,
   "metadata": {},
   "outputs": [],
   "source": [
    "# Filter Players \n",
    "df_player_filter = player_per_data.groupby(['DATASET', 'PLAYER FULL NAME'])['MIN'].agg(['mean', 'count'])\n",
    "df_player_filter = df_player_filter.reset_index()\n",
    "df_player_filter.columns\n",
    "df_player_filter = df_player_filter.loc[ (df_player_filter['mean'] > 24) & (df_player_filter['count'] > 30) ]\n",
    "# df_player_filter = df_player_filter[['DATASET','PLAYER FULL NAME']]\n",
    "player_per_data = pd.merge(player_per_data, df_player_filter, on=['DATASET','PLAYER FULL NAME'])\n",
    "\n",
    "# player_per_data[player_per_data['DATASET'].eq('2006-2007 Regular Season') & player_per_data['PLAYER FULL NAME'].eq('Luol Deng') ]\n"
   ]
  },
  {
   "cell_type": "code",
   "execution_count": 68,
   "metadata": {},
   "outputs": [],
   "source": [
    "# Game Player\n",
    "player_season_data['DATASET'] = player_season_data['DATASET'].str.replace(\n",
    "    'NBA 2018-2019 Regular Season',\n",
    "    '2018-2019 Regular Season'\n",
    ")\n",
    "player_season_data['DATASET'] = player_season_data['DATASET'].str.replace(\n",
    "    'NBA 2019-2020 Regular Season',\n",
    "    '2019-2020 Regular Season'\n",
    ")\n",
    "player_season_data['DATASET'] = player_season_data['DATASET'].str.replace(\n",
    "    'NBA 2020 Playoffs', '2020 Playoffs')\n",
    "player_season_data['DATASET'] = player_season_data['DATASET'].str.replace(\n",
    "    'NBA 2019 Playoffs','2019 Playoffs')\n",
    "\n",
    "player_season_data['DATE'] = pd.to_datetime(\n",
    "    player_season_data['DATE']\n",
    "    )\n",
    "\n",
    "# Player PER Data\n",
    "player_per_data['DATASET'] = player_per_data['DATASET'].str.replace(\n",
    "    'NBA 2018-2019 Regular Season',\n",
    "    '2018-2019 Regular Season'\n",
    ")\n",
    "player_per_data['DATASET'] = player_per_data['DATASET'].str.replace(\n",
    "    'NBA 2019-2020 Regular Season',\n",
    "    '2019-2020 Regular Season'\n",
    ")\n",
    "\n",
    "# Filter for Regular Season\n",
    "player_regular_season = player_season_data[player_season_data['DATASET'].str.contains(\"Season\")]\n",
    "# Filter for playoffs\n",
    "player_playoff = player_season_data[player_season_data['DATASET'].str.contains(\"Playoffs\")]\n"
   ]
  },
  {
   "cell_type": "code",
   "execution_count": 69,
   "metadata": {},
   "outputs": [
    {
     "name": "stderr",
     "output_type": "stream",
     "text": [
      "<ipython-input-69-004cabe60f09>:1: SettingWithCopyWarning: \n",
      "A value is trying to be set on a copy of a slice from a DataFrame.\n",
      "Try using .loc[row_indexer,col_indexer] = value instead\n",
      "\n",
      "See the caveats in the documentation: https://pandas.pydata.org/pandas-docs/stable/user_guide/indexing.html#returning-a-view-versus-a-copy\n",
      "  player_regular_season['DATE'] = player_regular_season['DATE'].dt.strftime('%m/%d/%Y')\n",
      "c:\\Python39\\lib\\site-packages\\pandas\\core\\frame.py:3641: SettingWithCopyWarning: \n",
      "A value is trying to be set on a copy of a slice from a DataFrame.\n",
      "Try using .loc[row_indexer,col_indexer] = value instead\n",
      "\n",
      "See the caveats in the documentation: https://pandas.pydata.org/pandas-docs/stable/user_guide/indexing.html#returning-a-view-versus-a-copy\n",
      "  self[k1] = value[k2]\n"
     ]
    }
   ],
   "source": [
    "player_regular_season['DATE'] = player_regular_season['DATE'].dt.strftime('%m/%d/%Y')\n",
    "player_regular_season[['DATASET']] = player_regular_season[['DATASET']].astype('string')\n",
    "player_per_data[['DATASET']] = player_per_data[['DATASET']].astype('string')"
   ]
  },
  {
   "cell_type": "markdown",
   "metadata": {},
   "source": [
    "Merge Player Info with Player PER Info w/ 24 min avg \n"
   ]
  },
  {
   "cell_type": "code",
   "execution_count": 70,
   "metadata": {},
   "outputs": [],
   "source": [
    "player_regular_season = pd.merge(\n",
    "    player_regular_season,\n",
    "    player_per_data,\n",
    "    on=['DATASET', 'DATE', 'PLAYER FULL NAME','OWN TEAM', 'MIN']\n",
    ")\n",
    "# All MINS and own teams are the same"
   ]
  },
  {
   "cell_type": "code",
   "execution_count": 71,
   "metadata": {},
   "outputs": [],
   "source": [
    "player_regular_season['DATE'] = pd.to_datetime(player_regular_season['DATE'])"
   ]
  },
  {
   "cell_type": "code",
   "execution_count": 72,
   "metadata": {},
   "outputs": [],
   "source": [
    "test = list()\n",
    "for season in player_regular_season['DATASET'].unique():\n",
    "    for player in list(player_regular_season[player_regular_season['DATASET'] == season]['PLAYER FULL NAME'].unique()):\n",
    "        temp_season = player_regular_season.loc[\n",
    "            player_regular_season['DATASET'].eq(season) & player_regular_season['PLAYER FULL NAME'].eq(player)].sort_values(by=['PLAYER FULL NAME', 'DATE'])\n",
    "        temp_season['DATE-DIFF'] = temp_season['DATE'].diff().dt.days\n",
    "         # Not sure how to handle multiple Road games\n",
    "        temp_season['RR VAL'] = temp_season['VENUE'].shift(1) + temp_season['VENUE']\n",
    "        temp_season['RR SERIES'] = ( temp_season['VENUE'].shift(1) + temp_season['VENUE']) == \"RR\"\n",
    "        n = temp_season['PER'].count()\n",
    "        temp_season['AVG_PER'] = temp_season['PER'].mean()\n",
    "        temp_season['OMIT_PER'] = (temp_season['AVG_PER']*n - temp_season['PER'])/(n-1)\n",
    "       \n",
    "        test.append(temp_season)\n"
   ]
  },
  {
   "cell_type": "code",
   "execution_count": 73,
   "metadata": {},
   "outputs": [],
   "source": [
    "player_regular_season = pd.concat(test)\n",
    "player_regular_season.loc[player_regular_season['DATE-DIFF'] > 14, ['DATE-DIFF']] = '14+'\n",
    "player_regular_season.loc[player_regular_season['DATE-DIFF'].isna(), ['DATE-DIFF']] = 'Season Start'\n",
    "player_regular_season['DATE-DIFF'] = player_regular_season['DATE-DIFF'].astype(str)\n",
    "player_regular_season['DATE-DIFF'] = player_regular_season['DATE-DIFF']+\" days\""
   ]
  },
  {
   "cell_type": "code",
   "execution_count": 74,
   "metadata": {},
   "outputs": [],
   "source": [
    "player_regular_season.columns\n",
    "# LA Lakers, LA Clippers\n",
    "# New York, Brooklyn\n",
    "player_regular_season['SAME CITY'] = 0\n",
    "player_regular_season.loc[player_regular_season['OWN TEAM'].eq(\"LA Lakers\") & player_regular_season['OPP TEAM'].eq(\"LA Clippers\"), ['SAME CITY'] ] = 1\n",
    "player_regular_season.loc[player_regular_season['OWN TEAM'].eq(\"LA Clippers\") & player_regular_season['OPP TEAM'].eq(\"LA Lakers\"),['SAME CITY']  ] = 1\n",
    "player_regular_season.loc[player_regular_season['OWN TEAM'].eq(\"New York\") & player_regular_season['OPP TEAM'].eq(\"Brooklyn\"), ['SAME CITY'] ] = 1\n",
    "player_regular_season.loc[player_regular_season['OWN TEAM'].eq(\"Brooklyn\") & player_regular_season['OPP TEAM'].eq(\"New York\"),['SAME CITY'] ] = 1\n",
    "\n",
    "player_regular_season['TRAVEL'] = 1\n",
    "# Played back to back home games\n",
    "player_regular_season.loc[player_regular_season['RR VAL'].eq('HH'), ['TRAVEL']] = 0\n",
    "# Last game was H, Current is R but in the Same City\n",
    "player_regular_season.loc[player_regular_season['RR VAL'].eq('HR') & player_regular_season['SAME CITY'].eq(1), ['TRAVEL']] = 0\n",
    "# Last game was R in Same City, Current game is H\n",
    "player_regular_season.loc[player_regular_season['RR VAL'].eq('RH') & player_regular_season['SAME CITY'].shift(1).eq(1), ['TRAVEL']] = 0\n"
   ]
  },
  {
   "cell_type": "code",
   "execution_count": 75,
   "metadata": {},
   "outputs": [],
   "source": [
    "player_regular_season_dummies = pd.concat([\n",
    "    player_regular_season,\n",
    "    pd.get_dummies(player_regular_season['DATE-DIFF']),\n",
    "    pd.get_dummies(player_regular_season['VENUE'])\n",
    "], axis=1)"
   ]
  },
  {
   "cell_type": "code",
   "execution_count": 76,
   "metadata": {},
   "outputs": [],
   "source": [
    "player_season_avg = player_regular_season.groupby(['DATASET','PLAYER FULL NAME']).mean().sort_values(['DATASET','PLAYER FULL NAME'])\n",
    "player_season_var= player_regular_season.groupby(['DATASET','PLAYER FULL NAME']).var().sort_values(['DATASET','PLAYER FULL NAME'])\n",
    "player_season_sd = player_regular_season.groupby(['DATASET','PLAYER FULL NAME']).std().sort_values(['DATASET','PLAYER FULL NAME'])\n",
    "player_season_HR= player_regular_season.groupby(['DATASET','PLAYER FULL NAME','VENUE']).mean().sort_values(['DATASET','PLAYER FULL NAME'])"
   ]
  },
  {
   "cell_type": "code",
   "execution_count": 77,
   "metadata": {},
   "outputs": [],
   "source": [
    "# Let Andre do minute in the last 3 day calculations\n",
    "\n",
    "# df"
   ]
  },
  {
   "cell_type": "code",
   "execution_count": 78,
   "metadata": {},
   "outputs": [],
   "source": [
    "with pd.ExcelWriter(\"../data/BDB_Player.xlsx\") as writer:\n",
    "    # use to_excel function and specify the sheet_name and index\n",
    "    # to store the dataframe in specified sheet\n",
    "    player_regular_season_dummies.to_excel(writer, sheet_name=\"General RS\", index=False)\n",
    "    df_player_filter.to_excel(writer, sheet_name=\"Players - Starters\")\n",
    "    player_season_avg.to_excel(writer, sheet_name=\"RS - AVG\", index=True)\n",
    "    player_season_HR.to_excel(writer, sheet_name=\"RS - HomeAway\", index=True)"
   ]
  }
 ],
 "metadata": {
  "interpreter": {
   "hash": "81794d4967e6c3204c66dcd87b604927b115b27c00565d3d43f05ba2f3a2cb0d"
  },
  "kernelspec": {
   "display_name": "Python 3.9.4 64-bit",
   "language": "python",
   "name": "python3"
  },
  "language_info": {
   "codemirror_mode": {
    "name": "ipython",
    "version": 3
   },
   "file_extension": ".py",
   "mimetype": "text/x-python",
   "name": "python",
   "nbconvert_exporter": "python",
   "pygments_lexer": "ipython3",
   "version": "3.9.4"
  },
  "orig_nbformat": 4
 },
 "nbformat": 4,
 "nbformat_minor": 2
}
