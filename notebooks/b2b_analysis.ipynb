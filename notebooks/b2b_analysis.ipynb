{
 "cells": [
  {
   "cell_type": "code",
   "execution_count": 1,
   "metadata": {},
   "outputs": [],
   "source": [
    "import pandas as pd \n",
    "import numpy as np\n",
    "from sklearn.linear_model import LinearRegression\n",
    "from sklearn.model_selection import train_test_split\n",
    "import matplotlib.pyplot as plt\n",
    "import seaborn as sns\n",
    "import statsmodels.api as sm\n",
    "\n",
    "from matplotlib import colors\n",
    "from matplotlib.ticker import PercentFormatter\n",
    "# regression analysis\n",
    "from linearmodels import IV2SLS \n",
    "\n",
    "import sys\n",
    "import os\n",
    "from pathlib import Path\n",
    "\n",
    "module_path = os.path.abspath(os.path.join('..'))\n",
    "if module_path not in sys.path:\n",
    "    sys.path.append(module_path+\"\\\\utils\")\n",
    "\n",
    "from players_season_builder import *\n",
    "from modeling import *"
   ]
  },
  {
   "cell_type": "code",
   "execution_count": 4,
   "metadata": {},
   "outputs": [],
   "source": [
    "player_path = r\"\\Users\\sebas\\Desktop\\UChicago - Q6\\Sports Analytics\\sports_analytics_project\\data\\BDB_Player.xlsx\"\n",
    "df_player = pd.read_excel(player_path)\n",
    "\n",
    "df_player.columns = ['DATASET', 'DATE', 'PLAYER FULL NAME', 'POSITION', 'OWN TEAM',\n",
    "       'OPP TEAM', 'VENUE', 'MIN', 'FG', 'FGA', '3P', '3PA', 'FT', 'FTA', 'OR',\n",
    "       'DR', 'TOT', 'A', 'PF', 'ST', 'TO', 'BL', 'PTS', 'PER', 'DATE-DIFF',\n",
    "       'RR VAL', 'RR SERIES', 'S_PER', 'I_PER', 'SAME_CITY', 'TRAVEL',\n",
    "       '1_days', '10_days', '11_days', '12_days', '13_days',\n",
    "       '14+_days', '14_days', '2_days', '3_days', '4_days', '5_days',\n",
    "       '6_days', '7_days', '8_days', '9_days', 'Season_Start',\n",
    "       'H', 'R', 'H-M1', 'H-M2', 'H-M3', 'R-M1', 'R-M2', 'R-M3', 'M1', 'M2',\n",
    "       'M3', 'S_OEFF', 'S_DEFF', 'I_OEFF', 'I_DEFF','Bubble']"
   ]
  },
  {
   "cell_type": "markdown",
   "metadata": {},
   "source": [
    "Filter out B2B"
   ]
  },
  {
   "cell_type": "code",
   "execution_count": 91,
   "metadata": {},
   "outputs": [],
   "source": [
    "sample_df = df_player[df_player['1_days'] == 1][['PLAYER FULL NAME','DATASET','PER','MIN','DATE']]\n",
    "sample_df['PREV_DATE'] = df_player.DATE - pd.Timedelta(days=1)\n",
    "sample_df.set_index(['DATASET','PLAYER FULL NAME'])\n",
    "test_df = df_player[['PLAYER FULL NAME','DATASET','DATE','PER','MIN']]\n",
    "test_df.set_index(['DATASET','PLAYER FULL NAME'])\n",
    "sample_df = sample_df.merge(test_df, left_on=['DATASET','PLAYER FULL NAME','PREV_DATE'], right_on=['DATASET','PLAYER FULL NAME','DATE'], suffixes=('','_prev'))\n",
    "\n",
    "sample_df['played_before?'] = np.where(sample_df['MIN_prev'] == 0, 0 , 1 )\n",
    "sample_df['>30'] = np.where(sample_df['MIN_prev'] >= 30, 1 , 0 )\n",
    "sample_df['MIN_diff'] = sample_df['MIN_prev'] - sample_df['MIN']\n",
    "sample_df['PER_DIFF'] = sample_df['PER_prev'] - sample_df['PER']\n",
    "sample_df['played_less_before'] = np.where(sample_df['MIN_prev'] < sample_df['MIN'], True , False )"
   ]
  },
  {
   "cell_type": "code",
   "execution_count": 77,
   "metadata": {},
   "outputs": [
    {
     "data": {
      "text/plain": [
       "<AxesSubplot:>"
      ]
     },
     "execution_count": 77,
     "metadata": {},
     "output_type": "execute_result"
    },
    {
     "data": {
      "image/png": "[encoded data removed]",
      "text/plain": [
       "<Figure size 432x288 with 1 Axes>"
      ]
     },
     "metadata": {
      "needs_background": "light"
     },
     "output_type": "display_data"
    }
   ],
   "source": [
    "sample_df['MIN_prev'].hist(bins=100)\n",
    "sample_df['MIN_diff'].hist(bins=100)\n"
   ]
  },
  {
   "cell_type": "code",
   "execution_count": 92,
   "metadata": {},
   "outputs": [
    {
     "data": {
      "text/plain": [
       "(0.0, 40.0)"
      ]
     },
     "execution_count": 92,
     "metadata": {},
     "output_type": "execute_result"
    },
    {
     "data": {
      "image/png": "[encoded data removed]",
      "text/plain": [
       "<Figure size 432x288 with 1 Axes>"
      ]
     },
     "metadata": {
      "needs_background": "light"
     },
     "output_type": "display_data"
    }
   ],
   "source": [
    "fig, ax = plt.subplots()\n",
    "sns.histplot(data = sample_df, x = 'PER_DIFF', hue = 'played_less_before', bins=100, ax=ax, multiple = \"stack\" )\n",
    "ax.set_xlim([0,40])"
   ]
  },
  {
   "cell_type": "code",
   "execution_count": 103,
   "metadata": {},
   "outputs": [
    {
     "data": {
      "text/html": [
       "<div>\n",
       "<style scoped>\n",
       "    .dataframe tbody tr th:only-of-type {\n",
       "        vertical-align: middle;\n",
       "    }\n",
       "\n",
       "    .dataframe tbody tr th {\n",
       "        vertical-align: top;\n",
       "    }\n",
       "\n",
       "    .dataframe thead tr th {\n",
       "        text-align: left;\n",
       "    }\n",
       "\n",
       "    .dataframe thead tr:last-of-type th {\n",
       "        text-align: right;\n",
       "    }\n",
       "</style>\n",
       "<table border=\"1\" class=\"dataframe\">\n",
       "  <thead>\n",
       "    <tr>\n",
       "      <th></th>\n",
       "      <th colspan=\"3\" halign=\"left\">PER_DIFF</th>\n",
       "      <th colspan=\"3\" halign=\"left\">MIN</th>\n",
       "      <th colspan=\"3\" halign=\"left\">MIN_prev</th>\n",
       "    </tr>\n",
       "    <tr>\n",
       "      <th></th>\n",
       "      <th>count_nonzero</th>\n",
       "      <th>average</th>\n",
       "      <th>std</th>\n",
       "      <th>count_nonzero</th>\n",
       "      <th>average</th>\n",
       "      <th>std</th>\n",
       "      <th>count_nonzero</th>\n",
       "      <th>average</th>\n",
       "      <th>std</th>\n",
       "    </tr>\n",
       "    <tr>\n",
       "      <th>played_less_before</th>\n",
       "      <th></th>\n",
       "      <th></th>\n",
       "      <th></th>\n",
       "      <th></th>\n",
       "      <th></th>\n",
       "      <th></th>\n",
       "      <th></th>\n",
       "      <th></th>\n",
       "      <th></th>\n",
       "    </tr>\n",
       "  </thead>\n",
       "  <tbody>\n",
       "    <tr>\n",
       "      <th>False</th>\n",
       "      <td>12633</td>\n",
       "      <td>2.758642</td>\n",
       "      <td>9.323434</td>\n",
       "      <td>12633</td>\n",
       "      <td>31.278530</td>\n",
       "      <td>4.532435</td>\n",
       "      <td>12633</td>\n",
       "      <td>36.169393</td>\n",
       "      <td>4.941741</td>\n",
       "    </tr>\n",
       "    <tr>\n",
       "      <th>True</th>\n",
       "      <td>13281</td>\n",
       "      <td>-2.370193</td>\n",
       "      <td>9.352980</td>\n",
       "      <td>13281</td>\n",
       "      <td>36.278783</td>\n",
       "      <td>4.994646</td>\n",
       "      <td>13281</td>\n",
       "      <td>31.287176</td>\n",
       "      <td>4.577980</td>\n",
       "    </tr>\n",
       "  </tbody>\n",
       "</table>\n",
       "</div>"
      ],
      "text/plain": [
       "                        PER_DIFF                               MIN             \\\n",
       "                   count_nonzero   average       std count_nonzero    average   \n",
       "played_less_before                                                              \n",
       "False                      12633  2.758642  9.323434         12633  31.278530   \n",
       "True                       13281 -2.370193  9.352980         13281  36.278783   \n",
       "\n",
       "                                  MIN_prev                       \n",
       "                         std count_nonzero    average       std  \n",
       "played_less_before                                               \n",
       "False               4.532435         12633  36.169393  4.941741  \n",
       "True                4.994646         13281  31.287176  4.577980  "
      ]
     },
     "execution_count": 103,
     "metadata": {},
     "output_type": "execute_result"
    }
   ],
   "source": [
    "sample_df.groupby(['played_less_before']).agg( {\n",
    "    'PER_DIFF' : [np.count_nonzero, np.max, np.average, np.std],\n",
    "    'MIN' : [np.average, np.std],\n",
    "    'MIN_prev' : [np.average, np.std]\n",
    "}\n",
    ")"
   ]
  },
  {
   "cell_type": "code",
   "execution_count": 104,
   "metadata": {},
   "outputs": [
    {
     "data": {
      "text/html": [
       "<div>\n",
       "<style scoped>\n",
       "    .dataframe tbody tr th:only-of-type {\n",
       "        vertical-align: middle;\n",
       "    }\n",
       "\n",
       "    .dataframe tbody tr th {\n",
       "        vertical-align: top;\n",
       "    }\n",
       "\n",
       "    .dataframe thead tr th {\n",
       "        text-align: left;\n",
       "    }\n",
       "\n",
       "    .dataframe thead tr:last-of-type th {\n",
       "        text-align: right;\n",
       "    }\n",
       "</style>\n",
       "<table border=\"1\" class=\"dataframe\">\n",
       "  <thead>\n",
       "    <tr>\n",
       "      <th></th>\n",
       "      <th colspan=\"3\" halign=\"left\">PER_DIFF</th>\n",
       "      <th colspan=\"3\" halign=\"left\">MIN</th>\n",
       "      <th colspan=\"3\" halign=\"left\">MIN_prev</th>\n",
       "    </tr>\n",
       "    <tr>\n",
       "      <th></th>\n",
       "      <th>count_nonzero</th>\n",
       "      <th>average</th>\n",
       "      <th>std</th>\n",
       "      <th>count_nonzero</th>\n",
       "      <th>average</th>\n",
       "      <th>std</th>\n",
       "      <th>count_nonzero</th>\n",
       "      <th>average</th>\n",
       "      <th>std</th>\n",
       "    </tr>\n",
       "    <tr>\n",
       "      <th>&gt;30</th>\n",
       "      <th></th>\n",
       "      <th></th>\n",
       "      <th></th>\n",
       "      <th></th>\n",
       "      <th></th>\n",
       "      <th></th>\n",
       "      <th></th>\n",
       "      <th></th>\n",
       "      <th></th>\n",
       "    </tr>\n",
       "  </thead>\n",
       "  <tbody>\n",
       "    <tr>\n",
       "      <th>0</th>\n",
       "      <td>7244</td>\n",
       "      <td>-2.230632</td>\n",
       "      <td>8.834994</td>\n",
       "      <td>7244</td>\n",
       "      <td>31.905817</td>\n",
       "      <td>4.975884</td>\n",
       "      <td>7244</td>\n",
       "      <td>27.256334</td>\n",
       "      <td>1.711988</td>\n",
       "    </tr>\n",
       "    <tr>\n",
       "      <th>1</th>\n",
       "      <td>18670</td>\n",
       "      <td>1.046068</td>\n",
       "      <td>9.842818</td>\n",
       "      <td>18670</td>\n",
       "      <td>34.592097</td>\n",
       "      <td>5.356598</td>\n",
       "      <td>18670</td>\n",
       "      <td>36.154689</td>\n",
       "      <td>4.052894</td>\n",
       "    </tr>\n",
       "  </tbody>\n",
       "</table>\n",
       "</div>"
      ],
      "text/plain": [
       "         PER_DIFF                               MIN                       \\\n",
       "    count_nonzero   average       std count_nonzero    average       std   \n",
       ">30                                                                        \n",
       "0            7244 -2.230632  8.834994          7244  31.905817  4.975884   \n",
       "1           18670  1.046068  9.842818         18670  34.592097  5.356598   \n",
       "\n",
       "         MIN_prev                       \n",
       "    count_nonzero    average       std  \n",
       ">30                                     \n",
       "0            7244  27.256334  1.711988  \n",
       "1           18670  36.154689  4.052894  "
      ]
     },
     "execution_count": 104,
     "metadata": {},
     "output_type": "execute_result"
    }
   ],
   "source": [
    "\n",
    "sample_df.groupby(['>30']).agg( {\n",
    "    'PER_DIFF' : [np.count_nonzero, np.average, np.std],\n",
    "    'MIN' : [np.count_nonzero, np.average, np.std],\n",
    "    'MIN_prev' : [np.count_nonzero,np.average, np.std]\n",
    "}\n",
    ")"
   ]
  }
 ],
 "metadata": {
  "interpreter": {
   "hash": "81794d4967e6c3204c66dcd87b604927b115b27c00565d3d43f05ba2f3a2cb0d"
  },
  "kernelspec": {
   "display_name": "Python 3.9.4 64-bit",
   "language": "python",
   "name": "python3"
  },
  "language_info": {
   "codemirror_mode": {
    "name": "ipython",
    "version": 3
   },
   "file_extension": ".py",
   "mimetype": "text/x-python",
   "name": "python",
   "nbconvert_exporter": "python",
   "pygments_lexer": "ipython3",
   "version": "3.9.4"
  },
  "orig_nbformat": 4
 },
 "nbformat": 4,
 "nbformat_minor": 2
}
