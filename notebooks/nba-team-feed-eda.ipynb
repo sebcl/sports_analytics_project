{
 "cells": [
  {
   "cell_type": "code",
   "execution_count": 1,
   "metadata": {},
   "outputs": [],
   "source": [
    "import pandas as pd\n",
    "import numpy as np\n",
    "import openpyxl\n",
    "import os\n",
    "from pathlib import Path"
   ]
  },
  {
   "cell_type": "code",
   "execution_count": 3,
   "metadata": {},
   "outputs": [
    {
     "data": {
      "text/plain": [
       "WindowsPath('.')"
      ]
     },
     "execution_count": 3,
     "metadata": {},
     "output_type": "execute_result"
    }
   ],
   "source": [
    "Path('.')"
   ]
  },
  {
   "cell_type": "code",
   "execution_count": 2,
   "metadata": {},
   "outputs": [
    {
     "ename": "TypeError",
     "evalue": "'WindowsPath' object is not iterable",
     "output_type": "error",
     "traceback": [
      "\u001b[1;31m---------------------------------------------------------------------------\u001b[0m",
      "\u001b[1;31mTypeError\u001b[0m                                 Traceback (most recent call last)",
      "\u001b[1;32m<ipython-input-2-b0b516612429>\u001b[0m in \u001b[0;36m<module>\u001b[1;34m\u001b[0m\n\u001b[0;32m      1\u001b[0m \u001b[0mcount\u001b[0m \u001b[1;33m=\u001b[0m \u001b[1;36m1\u001b[0m\u001b[1;33m\u001b[0m\u001b[1;33m\u001b[0m\u001b[0m\n\u001b[0;32m      2\u001b[0m \u001b[1;33m\u001b[0m\u001b[0m\n\u001b[1;32m----> 3\u001b[1;33m \u001b[1;32mfor\u001b[0m \u001b[0mp\u001b[0m \u001b[1;32min\u001b[0m \u001b[0mPath\u001b[0m\u001b[1;33m(\u001b[0m\u001b[1;34m'.Big Data Ball - Player'\u001b[0m\u001b[1;33m)\u001b[0m\u001b[1;33m:\u001b[0m\u001b[1;33m\u001b[0m\u001b[1;33m\u001b[0m\u001b[0m\n\u001b[0m\u001b[0;32m      4\u001b[0m     \u001b[1;32mwith\u001b[0m \u001b[0mp\u001b[0m\u001b[1;33m.\u001b[0m\u001b[0mopen\u001b[0m\u001b[1;33m(\u001b[0m\u001b[1;33m)\u001b[0m \u001b[1;32mas\u001b[0m \u001b[0mf\u001b[0m\u001b[1;33m:\u001b[0m\u001b[1;33m\u001b[0m\u001b[1;33m\u001b[0m\u001b[0m\n\u001b[0;32m      5\u001b[0m \u001b[1;33m\u001b[0m\u001b[0m\n",
      "\u001b[1;31mTypeError\u001b[0m: 'WindowsPath' object is not iterable"
     ]
    }
   ],
   "source": [
    "count = 1\n",
    "\n",
    "for p in Path('.Big Data Ball - Player').iterdir():\n",
    "    with p.open() as f:\n",
    "        \n",
    "        print(f\"{p.name}\")\n",
    "        \n",
    "        nba_raw = pd.read_excel(\"p.name\",sheet_name = \"NBA-TEAM-FEED\")\n",
    "        \n",
    "        print(nba_raw.columns)\n",
    "        \n",
    "    count=count+1\n",
    "    if count ==5:\n",
    "        break\n",
    "\n",
    "\n"
   ]
  },
  {
   "cell_type": "code",
   "execution_count": 22,
   "metadata": {},
   "outputs": [
    {
     "name": "stdout",
     "output_type": "stream",
     "text": [
      "Index(['BIGDATABALL\\nDATASET', 'GAME-ID', 'DATE', 'TEAM', 'VENUE', '1Q', '2Q',\n",
      "       '3Q', '4Q', 'OT1', 'OT2', 'OT3', 'OT4', 'OT5', 'F', 'MIN', 'FG', 'FGA',\n",
      "       '3P', '3PA', 'FT', 'FTA', 'OR', 'DR', 'TOT', 'A', 'PF', 'ST', 'TO',\n",
      "       'TO\\nTO', 'BL', 'PTS', 'POSS', 'PACE', 'OEFF', 'DEFF',\n",
      "       'TEAM\\nREST DAYS', 'STARTING LINEUPS', 'Unnamed: 38', 'Unnamed: 39',\n",
      "       'Unnamed: 40', 'Unnamed: 41', 'MAIN REF', 'CREW', 'OPENING ODDS',\n",
      "       'OPENING SPREAD', 'OPENING TOTAL', 'LINE \\nMOVEMENT #1',\n",
      "       'LINE \\nMOVEMENT #2', 'LINE \\nMOVEMENT #3', 'CLOSING\\nODDS',\n",
      "       'CLOSING SPREAD', 'CLOSING TOTAL', 'MONEYLINE', 'HALFTIME',\n",
      "       'BOX SCORE\\nURL', 'FULL GAME\\nODDS URL'],\n",
      "      dtype='object')\n",
      "Index(['BIGDATABALLDATASET', 'GAME-ID', 'DATE', 'TEAM', 'VENUE', '1Q', '2Q',\n",
      "       '3Q', '4Q', 'OT1', 'OT2', 'OT3', 'OT4', 'OT5', 'F', 'MIN', 'FG', 'FGA',\n",
      "       '3P', '3PA', 'FT', 'FTA', 'OR', 'DR', 'TOT', 'A', 'PF', 'ST', 'TO',\n",
      "       'TOTO', 'BL', 'PTS', 'POSS', 'PACE', 'OEFF', 'DEFF', 'TEAMREST DAYS',\n",
      "       'STARTING LINEUPS', 'Unnamed: 38', 'Unnamed: 39', 'Unnamed: 40',\n",
      "       'Unnamed: 41', 'MAIN REF', 'CREW', 'OPENING ODDS', 'OPENING SPREAD',\n",
      "       'OPENING TOTAL', 'LINE MOVEMENT #1', 'LINE MOVEMENT #2',\n",
      "       'LINE MOVEMENT #3', 'CLOSINGODDS', 'CLOSING SPREAD', 'CLOSING TOTAL',\n",
      "       'MONEYLINE', 'HALFTIME', 'BOX SCOREURL', 'FULL GAMEODDS URL'],\n",
      "      dtype='object')\n"
     ]
    }
   ],
   "source": [
    "print(nba_raw.columns)\n",
    "rename = nba_raw.columns.tolist()\n",
    "for i in range(0, len(rename)):\n",
    "    if '\\n' in rename[i]:\n",
    "        temp = rename[i].replace('\\n','')\n",
    "        rename[i] = temp\n",
    "\n",
    "nba_raw.columns = rename\n",
    "print(nba_raw.columns)\n",
    "\n",
    "# print(nba_raw.head())"
   ]
  },
  {
   "cell_type": "markdown",
   "metadata": {},
   "source": [
    "How many seasons do I have?"
   ]
  },
  {
   "cell_type": "code",
   "execution_count": 27,
   "metadata": {},
   "outputs": [
    {
     "name": "stdout",
     "output_type": "stream",
     "text": [
      "Regular Seasons: \n",
      "['NBA 2021-2022 Regular Season']\n",
      "# of unique games\n",
      "1202\n"
     ]
    }
   ],
   "source": [
    "print(\"Regular Seasons: \")\n",
    "print(nba_raw['BIGDATABALLDATASET'].unique())\n",
    "print(\"# of unique games\")\n",
    "print(len(nba_raw['GAME-ID'].unique()))\n",
    "print(\"Date Span\")"
   ]
  },
  {
   "cell_type": "code",
   "execution_count": 33,
   "metadata": {},
   "outputs": [
    {
     "data": {
      "text/plain": [
       "array(['3+', 1, 2, '3IN4-B2B', 'B2B', '3IN4', '4IN5-B2B'], dtype=object)"
      ]
     },
     "execution_count": 33,
     "metadata": {},
     "output_type": "execute_result"
    }
   ],
   "source": [
    "nba_raw['TEAMREST DAYS'].unique()"
   ]
  }
 ],
 "metadata": {
  "interpreter": {
   "hash": "63fd5069d213b44bf678585dea6b12cceca9941eaf7f819626cde1f2670de90d"
  },
  "kernelspec": {
   "display_name": "Python 3.9.4 64-bit",
   "language": "python",
   "name": "python3"
  },
  "language_info": {
   "codemirror_mode": {
    "name": "ipython",
    "version": 3
   },
   "file_extension": ".py",
   "mimetype": "text/x-python",
   "name": "python",
   "nbconvert_exporter": "python",
   "pygments_lexer": "ipython3",
   "version": "3.9.4"
  },
  "orig_nbformat": 4
 },
 "nbformat": 4,
 "nbformat_minor": 2
}
