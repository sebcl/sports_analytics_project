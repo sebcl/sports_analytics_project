{
 "cells": [
  {
   "cell_type": "code",
   "execution_count": 1,
   "metadata": {},
   "outputs": [],
   "source": [
    "import pandas as pd\n",
    "import numpy as np\n",
    "import openpyxl\n",
    "import sys\n",
    "import os\n",
    "from pathlib import Path\n",
    "\n",
    "module_path = os.path.abspath(os.path.join('..'))\n",
    "if module_path not in sys.path:\n",
    "    sys.path.append(module_path+\"\\\\utils\")\n",
    "\n",
    "from players_season_builder import *"
   ]
  },
  {
   "cell_type": "code",
   "execution_count": 2,
   "metadata": {},
   "outputs": [],
   "source": [
    "folder_path = r\"\\Users\\sebas\\Desktop\\UChicago - Q6\\Sports Analytics\\sports_analytics_project\\data\\Big Data Ball - Game\" \n",
    "file_type, sheet_name = \"xlsx\" , 0\n",
    "data_source = \"BDB-GAME\"\n"
   ]
  },
  {
   "cell_type": "code",
   "execution_count": 10,
   "metadata": {},
   "outputs": [],
   "source": [
    "temp_df = combine_xl_data(folder_path, file_type, sheet_name, data_source) "
   ]
  },
  {
   "cell_type": "code",
   "execution_count": 11,
   "metadata": {},
   "outputs": [
    {
     "data": {
      "text/plain": [
       "array(['Chicago', 'Miami', 'Phoenix', 'LA Lakers', 'Indiana', 'Charlotte',\n",
       "       'Orlando', 'Atlanta', 'Philadelphia', 'New Orleans', 'Boston',\n",
       "       'Toronto', 'New Jersey', 'Washington', 'Cleveland', 'Milwaukee',\n",
       "       'Detroit', 'New York', 'Memphis', 'Sacramento', 'Minnesota',\n",
       "       'Houston', 'Utah', 'Portland', 'Seattle', 'Golden State',\n",
       "       'LA Clippers', 'San Antonio', 'Dallas', 'Denver', 'Oklahoma City',\n",
       "       'Brooklyn'], dtype=object)"
      ]
     },
     "execution_count": 11,
     "metadata": {},
     "output_type": "execute_result"
    }
   ],
   "source": [
    "temp_df['TEAMS'].unique()"
   ]
  },
  {
   "cell_type": "markdown",
   "metadata": {},
   "source": [
    "Handle binary variables\n",
    "- Rest Days:    \n",
    "    '3+', 'B2B', 1, 2, '3IN4', '3IN4-B2B', '4IN5-B2B', '4IN5-B2B2B', '4IN5', '5IN6', 'B2B2B', '3IN4-B2B2B', '5IN6-B2B2B', '1', '2' '5IN5-B2B2B'\n",
    "\n",
    "    Assumptions: \n",
    "        B2B = 0 days of rest\n",
    "        Number of Days: 0, 1, 2, 3+\n",
    "        Density of Games: How do we want to consider density\n",
    "\n",
    "    # The more accurate method will be comparing dates and manually calculating \n",
    "\n",
    "- Applicable Data:\n",
    "\n",
    "    Filter for \"Regular Season\"\n"
   ]
  },
  {
   "cell_type": "code",
   "execution_count": 20,
   "metadata": {},
   "outputs": [
    {
     "name": "stderr",
     "output_type": "stream",
     "text": [
      "<ipython-input-20-2007e87bbf61>:5: SettingWithCopyWarning: \n",
      "A value is trying to be set on a copy of a slice from a DataFrame.\n",
      "Try using .loc[row_indexer,col_indexer] = value instead\n",
      "\n",
      "See the caveats in the documentation: https://pandas.pydata.org/pandas-docs/stable/user_guide/indexing.html#returning-a-view-versus-a-copy\n",
      "  nba_regular_season['DATASET'] = nba_regular_season['DATASET'].str.replace(\n",
      "<ipython-input-20-2007e87bbf61>:9: SettingWithCopyWarning: \n",
      "A value is trying to be set on a copy of a slice from a DataFrame.\n",
      "Try using .loc[row_indexer,col_indexer] = value instead\n",
      "\n",
      "See the caveats in the documentation: https://pandas.pydata.org/pandas-docs/stable/user_guide/indexing.html#returning-a-view-versus-a-copy\n",
      "  nba_regular_season['DATASET'] = nba_regular_season['DATASET'].str.replace(\n",
      "<ipython-input-20-2007e87bbf61>:15: SettingWithCopyWarning: \n",
      "A value is trying to be set on a copy of a slice from a DataFrame.\n",
      "Try using .loc[row_indexer,col_indexer] = value instead\n",
      "\n",
      "See the caveats in the documentation: https://pandas.pydata.org/pandas-docs/stable/user_guide/indexing.html#returning-a-view-versus-a-copy\n",
      "  nba_regular_season['DATASET'] = nba_regular_season['DATASET'].str.replace(\n",
      "<ipython-input-20-2007e87bbf61>:17: SettingWithCopyWarning: \n",
      "A value is trying to be set on a copy of a slice from a DataFrame.\n",
      "Try using .loc[row_indexer,col_indexer] = value instead\n",
      "\n",
      "See the caveats in the documentation: https://pandas.pydata.org/pandas-docs/stable/user_guide/indexing.html#returning-a-view-versus-a-copy\n",
      "  nba_regular_season['DATASET'] = nba_regular_season['DATASET'].str.replace(\n"
     ]
    }
   ],
   "source": [
    "# Filter for Regular Season\n",
    "nba_regular_season = temp_df[temp_df['DATASET'].str.contains(\"Season\")]\n",
    "nba_regular_season['DATASET'] = nba_regular_season['DATASET'].str.replace(\n",
    "    'NBA 2018-2019 Regular Season',\n",
    "    '2018-2019 Regular Season'\n",
    ")\n",
    "nba_regular_season['DATASET'] = nba_regular_season['DATASET'].str.replace(\n",
    "    'NBA 2019-2020 Regular Season',\n",
    "    '2019-2020 Regular Season'\n",
    ")\n",
    "# Filter for playoffs\n",
    "nba_playoffs = temp_df[temp_df['DATASET'].str.contains(\"Playoffs\")]\n",
    "nba_regular_season['DATASET'] = nba_regular_season['DATASET'].str.replace(\n",
    "    'NBA 2020 Playoffs', '2020 Playoffs')\n",
    "nba_regular_season['DATASET'] = nba_regular_season['DATASET'].str.replace(\n",
    "    'NBA 2019 Playoffs','2019 Playoffs')\n"
   ]
  },
  {
   "cell_type": "code",
   "execution_count": 21,
   "metadata": {},
   "outputs": [
    {
     "name": "stderr",
     "output_type": "stream",
     "text": [
      "<ipython-input-21-0f00ec012475>:2: SettingWithCopyWarning: \n",
      "A value is trying to be set on a copy of a slice from a DataFrame.\n",
      "Try using .loc[row_indexer,col_indexer] = value instead\n",
      "\n",
      "See the caveats in the documentation: https://pandas.pydata.org/pandas-docs/stable/user_guide/indexing.html#returning-a-view-versus-a-copy\n",
      "  nba_regular_season['REST DAYS'] = nba_regular_season['REST DAYS'].astype('string')\n",
      "<ipython-input-21-0f00ec012475>:3: SettingWithCopyWarning: \n",
      "A value is trying to be set on a copy of a slice from a DataFrame.\n",
      "Try using .loc[row_indexer,col_indexer] = value instead\n",
      "\n",
      "See the caveats in the documentation: https://pandas.pydata.org/pandas-docs/stable/user_guide/indexing.html#returning-a-view-versus-a-copy\n",
      "  nba_regular_season['DATE'] = pd.to_datetime(\n"
     ]
    }
   ],
   "source": [
    "# Address Types\n",
    "nba_regular_season['REST DAYS'] = nba_regular_season['REST DAYS'].astype('string')\n",
    "nba_regular_season['DATE'] = pd.to_datetime(\n",
    "    nba_regular_season['DATE']\n",
    "    )"
   ]
  },
  {
   "cell_type": "code",
   "execution_count": 22,
   "metadata": {},
   "outputs": [
    {
     "data": {
      "text/plain": [
       "array(['Chicago', 'Miami', 'Phoenix', 'LA Lakers', 'Indiana', 'Charlotte',\n",
       "       'Orlando', 'Atlanta', 'Philadelphia', 'New Orleans', 'Boston',\n",
       "       'Toronto', 'New Jersey', 'Washington', 'Cleveland', 'Milwaukee',\n",
       "       'Detroit', 'New York', 'Memphis', 'Sacramento', 'Minnesota',\n",
       "       'Houston', 'Utah', 'Portland', 'Seattle', 'Golden State',\n",
       "       'LA Clippers', 'San Antonio', 'Dallas', 'Denver', 'Oklahoma City',\n",
       "       'Brooklyn'], dtype=object)"
      ]
     },
     "execution_count": 22,
     "metadata": {},
     "output_type": "execute_result"
    }
   ],
   "source": [
    "nba_regular_season['TEAMS'].unique()"
   ]
  },
  {
   "cell_type": "code",
   "execution_count": 65,
   "metadata": {},
   "outputs": [],
   "source": [
    "# Handle Rest Day - Recalculation\n",
    "test = list()\n",
    "for season in nba_regular_season['DATASET'].unique():\n",
    "    for team in list(nba_regular_season[nba_regular_season['DATASET'] == season]['TEAMS'].unique()):\n",
    "        temp_season = nba_regular_season.loc[nba_regular_season['DATASET'].eq(season) & nba_regular_season['TEAMS'].eq(team) ].sort_values(by=['TEAMS', 'DATE'])\n",
    "        temp_season['DATE-DIFF'] = temp_season['DATE'].diff().dt.days\n",
    "        temp_season['H/R CHANGE'] = temp_season['VENUE'].shift(1) != temp_season['VENUE'] # H --> R or R --> H \n",
    "        # Not sure how to handle multiple Road games\n",
    "        temp_season['RR VAL'] = temp_season['VENUE'].shift(1) + temp_season['VENUE']\n",
    "        temp_season['RR SERIES'] = ( temp_season['VENUE'].shift(1) + temp_season['VENUE']) == \"RR\"\n",
    "        test.append(temp_season)\n",
    "\n",
    "nba_regular_season = pd.concat(test)\n",
    "nba_regular_season['DATE-DIFF'] = nba_regular_season['DATE-DIFF'].astype(str)\n",
    "nba_regular_season['DATE-DIFF'] = nba_regular_season['DATE-DIFF']+\" days\"\n",
    "\n"
   ]
  },
  {
   "cell_type": "code",
   "execution_count": 66,
   "metadata": {},
   "outputs": [],
   "source": [
    "# Create Dummy Variables for 'REST DAYS'\n",
    "nba_reg_season_dummies = pd.concat([\n",
    "    nba_regular_season,\n",
    "    pd.get_dummies(nba_regular_season['REST DAYS'])\n",
    "], axis=1)"
   ]
  },
  {
   "cell_type": "code",
   "execution_count": 67,
   "metadata": {},
   "outputs": [],
   "source": [
    "game = [ 'DATASET',       'DATE',       'VENUE',      'TEAMS',          'F',        \n",
    "              'MIN',         'FG',        'FGA',         '3P',        '3PA',         \n",
    "               'FT',        'FTA',         'OR',         'DR',        'TOT',          \n",
    "                'A',         'PF',         'ST',         'TO',         'BL',        \n",
    "              'PTS',       'POSS',       'PACE',       'OEFF',       'DEFF' ]\n",
    "\n",
    "nba_reg_season_stats = nba_regular_season[game].groupby(['TEAMS', 'DATASET'], dropna=True).mean()\n",
    "nba_reg_season_stats_home_away = nba_regular_season[game].groupby(['TEAMS', 'DATASET','VENUE'], dropna=True).mean()"
   ]
  },
  {
   "cell_type": "code",
   "execution_count": 68,
   "metadata": {},
   "outputs": [],
   "source": [
    "nba_reg_dates = pd.concat([\n",
    "    nba_regular_season[game].groupby(['TEAMS', 'DATASET'], dropna=True)['DATE'].min(), \n",
    "    nba_regular_season[game].groupby(['TEAMS', 'DATASET'], dropna=True)['DATE'].max(),\n",
    "], axis = 1 )\n",
    "\n",
    "nba_reg_season_dummies = pd.concat([\n",
    "    nba_regular_season,\n",
    "    pd.get_dummies(nba_regular_season['DATE-DIFF'])\n",
    "], axis=1)"
   ]
  },
  {
   "cell_type": "code",
   "execution_count": 56,
   "metadata": {},
   "outputs": [
    {
     "data": {
      "text/html": [
       "<div>\n",
       "<style scoped>\n",
       "    .dataframe tbody tr th:only-of-type {\n",
       "        vertical-align: middle;\n",
       "    }\n",
       "\n",
       "    .dataframe tbody tr th {\n",
       "        vertical-align: top;\n",
       "    }\n",
       "\n",
       "    .dataframe thead th {\n",
       "        text-align: right;\n",
       "    }\n",
       "</style>\n",
       "<table border=\"1\" class=\"dataframe\">\n",
       "  <thead>\n",
       "    <tr style=\"text-align: right;\">\n",
       "      <th></th>\n",
       "      <th></th>\n",
       "      <th>DATE</th>\n",
       "      <th>DATE</th>\n",
       "    </tr>\n",
       "    <tr>\n",
       "      <th>TEAMS</th>\n",
       "      <th>DATASET</th>\n",
       "      <th></th>\n",
       "      <th></th>\n",
       "    </tr>\n",
       "  </thead>\n",
       "  <tbody>\n",
       "    <tr>\n",
       "      <th rowspan=\"5\" valign=\"top\">Atlanta</th>\n",
       "      <th>2006-2007 Regular Season</th>\n",
       "      <td>2006-11-01</td>\n",
       "      <td>2007-04-17</td>\n",
       "    </tr>\n",
       "    <tr>\n",
       "      <th>2007-2008 Regular Season</th>\n",
       "      <td>2007-11-02</td>\n",
       "      <td>2008-04-16</td>\n",
       "    </tr>\n",
       "    <tr>\n",
       "      <th>2008-2009 Regular Season</th>\n",
       "      <td>2008-10-29</td>\n",
       "      <td>2009-04-15</td>\n",
       "    </tr>\n",
       "    <tr>\n",
       "      <th>2009-2010 Regular Season</th>\n",
       "      <td>2009-10-28</td>\n",
       "      <td>2010-04-14</td>\n",
       "    </tr>\n",
       "    <tr>\n",
       "      <th>2010-2011 Regular Season</th>\n",
       "      <td>2010-10-27</td>\n",
       "      <td>2011-04-13</td>\n",
       "    </tr>\n",
       "    <tr>\n",
       "      <th>...</th>\n",
       "      <th>...</th>\n",
       "      <td>...</td>\n",
       "      <td>...</td>\n",
       "    </tr>\n",
       "    <tr>\n",
       "      <th rowspan=\"5\" valign=\"top\">Washington</th>\n",
       "      <th>2015-2016 Regular Season</th>\n",
       "      <td>2015-10-28</td>\n",
       "      <td>2016-04-13</td>\n",
       "    </tr>\n",
       "    <tr>\n",
       "      <th>2016-2017 Regular Season</th>\n",
       "      <td>2016-10-27</td>\n",
       "      <td>2017-04-12</td>\n",
       "    </tr>\n",
       "    <tr>\n",
       "      <th>2017-2018 Regular Season</th>\n",
       "      <td>2017-10-18</td>\n",
       "      <td>2018-04-11</td>\n",
       "    </tr>\n",
       "    <tr>\n",
       "      <th>2018-2019 Regular Season</th>\n",
       "      <td>2018-10-18</td>\n",
       "      <td>2019-04-09</td>\n",
       "    </tr>\n",
       "    <tr>\n",
       "      <th>2019-2020 Regular Season</th>\n",
       "      <td>2019-10-23</td>\n",
       "      <td>2020-08-13</td>\n",
       "    </tr>\n",
       "  </tbody>\n",
       "</table>\n",
       "<p>420 rows × 2 columns</p>\n",
       "</div>"
      ],
      "text/plain": [
       "                                          DATE       DATE\n",
       "TEAMS      DATASET                                       \n",
       "Atlanta    2006-2007 Regular Season 2006-11-01 2007-04-17\n",
       "           2007-2008 Regular Season 2007-11-02 2008-04-16\n",
       "           2008-2009 Regular Season 2008-10-29 2009-04-15\n",
       "           2009-2010 Regular Season 2009-10-28 2010-04-14\n",
       "           2010-2011 Regular Season 2010-10-27 2011-04-13\n",
       "...                                        ...        ...\n",
       "Washington 2015-2016 Regular Season 2015-10-28 2016-04-13\n",
       "           2016-2017 Regular Season 2016-10-27 2017-04-12\n",
       "           2017-2018 Regular Season 2017-10-18 2018-04-11\n",
       "           2018-2019 Regular Season 2018-10-18 2019-04-09\n",
       "           2019-2020 Regular Season 2019-10-23 2020-08-13\n",
       "\n",
       "[420 rows x 2 columns]"
      ]
     },
     "execution_count": 56,
     "metadata": {},
     "output_type": "execute_result"
    }
   ],
   "source": [
    "nba_reg_dates"
   ]
  },
  {
   "cell_type": "markdown",
   "metadata": {},
   "source": [
    "Season Statistics -> "
   ]
  },
  {
   "cell_type": "code",
   "execution_count": 72,
   "metadata": {},
   "outputs": [],
   "source": [
    "with pd.ExcelWriter(\"../data/BDB_Combo.xlsx\") as writer:\n",
    "   \n",
    "    # use to_excel function and specify the sheet_name and index\n",
    "    # to store the dataframe in specified sheet\n",
    "    nba_regular_season.to_excel(writer, sheet_name=\"General RS\", index=False)\n",
    "    nba_reg_dates.to_excel(writer, sheet_name=\"RS - Date\", index=True)\n",
    "    nba_reg_season_dummies.to_excel(writer, sheet_name= \"RS - Dummies\", index=False)\n",
    "    nba_reg_season_stats.to_excel(writer, sheet_name=\"RS - Avg Season Stats\", index=True)\n",
    "    nba_reg_season_stats_home_away.to_excel(writer, sheet_name=\"RS - HomeAway Stats\", index=True)"
   ]
  }
 ],
 "metadata": {
  "interpreter": {
   "hash": "63fd5069d213b44bf678585dea6b12cceca9941eaf7f819626cde1f2670de90d"
  },
  "kernelspec": {
   "display_name": "Python 3.9.4 64-bit",
   "language": "python",
   "name": "python3"
  },
  "language_info": {
   "codemirror_mode": {
    "name": "ipython",
    "version": 3
   },
   "file_extension": ".py",
   "mimetype": "text/x-python",
   "name": "python",
   "nbconvert_exporter": "python",
   "pygments_lexer": "ipython3",
   "version": "3.9.4"
  },
  "orig_nbformat": 4
 },
 "nbformat": 4,
 "nbformat_minor": 2
}
