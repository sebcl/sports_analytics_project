{
 "cells": [
  {
   "cell_type": "code",
   "execution_count": 3,
   "metadata": {},
   "outputs": [],
   "source": [
    "import pandas as pd\n",
    "import numpy as np\n",
    "import openpyxl\n",
    "import sys\n",
    "import os\n",
    "from pathlib import Path\n",
    "\n",
    "module_path = os.path.abspath(os.path.join('..'))\n",
    "if module_path not in sys.path:\n",
    "    sys.path.append(module_path+\"\\\\utils\")\n",
    "\n",
    "from players_season_builder import *"
   ]
  },
  {
   "cell_type": "code",
   "execution_count": 1,
   "metadata": {},
   "outputs": [],
   "source": [
    "folder_path = r\"\\Users\\sebas\\Desktop\\UChicago - Q6\\Sports Analytics\\sports_analytics_project\\data\\Big Data Ball - Game\" \n",
    "file_type, sheet_name = \"xlsx\" , 0\n",
    "data_source = \"BDB-GAME\"\n"
   ]
  },
  {
   "cell_type": "code",
   "execution_count": 48,
   "metadata": {},
   "outputs": [
    {
     "name": "stdout",
     "output_type": "stream",
     "text": [
      "\\Users\\sebas\\Desktop\\UChicago - Q6\\Sports Analytics\\sports_analytics_project\\data\\Big Data Ball - Game\\2006-2007_NBA_Box_Score_Team_Stats.xlsx\n",
      "50\n",
      "\\Users\\sebas\\Desktop\\UChicago - Q6\\Sports Analytics\\sports_analytics_project\\data\\Big Data Ball - Game\\2007-2008_NBA_Box_Score_Team_Stats.xlsx\n",
      "50\n",
      "\\Users\\sebas\\Desktop\\UChicago - Q6\\Sports Analytics\\sports_analytics_project\\data\\Big Data Ball - Game\\2008-2009_NBA_Box_Score_Team_Stats.xlsx\n",
      "50\n",
      "\\Users\\sebas\\Desktop\\UChicago - Q6\\Sports Analytics\\sports_analytics_project\\data\\Big Data Ball - Game\\2009-2010_NBA_Box_Score_Team_Stats.xlsx\n",
      "50\n",
      "\\Users\\sebas\\Desktop\\UChicago - Q6\\Sports Analytics\\sports_analytics_project\\data\\Big Data Ball - Game\\2010-2011_NBA_Box_Score_Team_Stats.xlsx\n",
      "50\n",
      "\\Users\\sebas\\Desktop\\UChicago - Q6\\Sports Analytics\\sports_analytics_project\\data\\Big Data Ball - Game\\2011-2012_NBA_Box_Score_Team_Stats.xlsx\n",
      "50\n",
      "\\Users\\sebas\\Desktop\\UChicago - Q6\\Sports Analytics\\sports_analytics_project\\data\\Big Data Ball - Game\\2012-2013_NBA_Box_Score_Team_Stats.xlsx\n",
      "50\n",
      "\\Users\\sebas\\Desktop\\UChicago - Q6\\Sports Analytics\\sports_analytics_project\\data\\Big Data Ball - Game\\2013-2014_NBA_Box_Score_Team-Stats.xlsx\n",
      "51\n",
      "\\Users\\sebas\\Desktop\\UChicago - Q6\\Sports Analytics\\sports_analytics_project\\data\\Big Data Ball - Game\\2014-2015_NBA_Box_Score_Team-Stats.xlsx\n",
      "51\n",
      "\\Users\\sebas\\Desktop\\UChicago - Q6\\Sports Analytics\\sports_analytics_project\\data\\Big Data Ball - Game\\2015-2016_NBA_Box_Score_Team-Stats.xlsx\n",
      "51\n",
      "\\Users\\sebas\\Desktop\\UChicago - Q6\\Sports Analytics\\sports_analytics_project\\data\\Big Data Ball - Game\\2016-2017_NBA_Box_Score_Team-Stats.xlsx\n",
      "51\n",
      "\\Users\\sebas\\Desktop\\UChicago - Q6\\Sports Analytics\\sports_analytics_project\\data\\Big Data Ball - Game\\2017-2018_NBA_Box_Score_Team-Stats.xlsx\n",
      "51\n",
      "\\Users\\sebas\\Desktop\\UChicago - Q6\\Sports Analytics\\sports_analytics_project\\data\\Big Data Ball - Game\\2018-2019_NBA_Box_Score_Team-Stats.xlsx\n",
      "57\n",
      "CHeck 57\n",
      "\\Users\\sebas\\Desktop\\UChicago - Q6\\Sports Analytics\\sports_analytics_project\\data\\Big Data Ball - Game\\2019-2020_NBA_Box_Score_Team-Stats.xlsx\n",
      "57\n",
      "CHeck 57\n"
     ]
    }
   ],
   "source": [
    "temp_df = combine_xl_data(folder_path, file_type, sheet_name, data_source) "
   ]
  },
  {
   "cell_type": "markdown",
   "metadata": {},
   "source": [
    "Handle binary variables\n",
    "- Rest Days:    \n",
    "    '3+', 'B2B', 1, 2, '3IN4', '3IN4-B2B', '4IN5-B2B', '4IN5-B2B2B', '4IN5', '5IN6', 'B2B2B', '3IN4-B2B2B', '5IN6-B2B2B', '1', '2' '5IN5-B2B2B'\n",
    "\n",
    "    Assumptions: \n",
    "        B2B = 0 days of rest\n",
    "        Number of Days: 0, 1, 2, 3+\n",
    "        Density of Games: How do we want to consider density\n",
    "\n",
    "    # The more accurate method will be comparing dates and manually calculating \n",
    "\n",
    "- Applicable Data:\n",
    "\n",
    "    Filter for \"Regular Season\"\n",
    "\n",
    "\n",
    "\n"
   ]
  },
  {
   "cell_type": "code",
   "execution_count": 49,
   "metadata": {},
   "outputs": [
    {
     "name": "stderr",
     "output_type": "stream",
     "text": [
      "<ipython-input-49-7c42f2398efc>:3: SettingWithCopyWarning: \n",
      "A value is trying to be set on a copy of a slice from a DataFrame.\n",
      "Try using .loc[row_indexer,col_indexer] = value instead\n",
      "\n",
      "See the caveats in the documentation: https://pandas.pydata.org/pandas-docs/stable/user_guide/indexing.html#returning-a-view-versus-a-copy\n",
      "  nba_regular_season['DATASET'] = nba_regular_season['DATASET'].str.replace(\n",
      "<ipython-input-49-7c42f2398efc>:7: SettingWithCopyWarning: \n",
      "A value is trying to be set on a copy of a slice from a DataFrame.\n",
      "Try using .loc[row_indexer,col_indexer] = value instead\n",
      "\n",
      "See the caveats in the documentation: https://pandas.pydata.org/pandas-docs/stable/user_guide/indexing.html#returning-a-view-versus-a-copy\n",
      "  nba_regular_season['DATASET'] = nba_regular_season['DATASET'].str.replace(\n",
      "<ipython-input-49-7c42f2398efc>:13: SettingWithCopyWarning: \n",
      "A value is trying to be set on a copy of a slice from a DataFrame.\n",
      "Try using .loc[row_indexer,col_indexer] = value instead\n",
      "\n",
      "See the caveats in the documentation: https://pandas.pydata.org/pandas-docs/stable/user_guide/indexing.html#returning-a-view-versus-a-copy\n",
      "  nba_regular_season['DATASET'] = nba_regular_season['DATASET'].str.replace(\n",
      "<ipython-input-49-7c42f2398efc>:15: SettingWithCopyWarning: \n",
      "A value is trying to be set on a copy of a slice from a DataFrame.\n",
      "Try using .loc[row_indexer,col_indexer] = value instead\n",
      "\n",
      "See the caveats in the documentation: https://pandas.pydata.org/pandas-docs/stable/user_guide/indexing.html#returning-a-view-versus-a-copy\n",
      "  nba_regular_season['DATASET'] = nba_regular_season['DATASET'].str.replace(\n"
     ]
    }
   ],
   "source": [
    "# Filter for Regular Season\n",
    "nba_regular_season = temp_df[temp_df['DATASET'].str.contains(\"Season\")]\n",
    "nba_regular_season['DATASET'] = nba_regular_season['DATASET'].str.replace(\n",
    "    'NBA 2018-2019 Regular Season',\n",
    "    '2018-2019 Regular Season'\n",
    ")\n",
    "nba_regular_season['DATASET'] = nba_regular_season['DATASET'].str.replace(\n",
    "    'NBA 2019-2020 Regular Season',\n",
    "    '2019-2020 Regular Season'\n",
    ")\n",
    "# Filter for playoffs\n",
    "nba_playoffs = temp_df[temp_df['DATASET'].str.contains(\"Playoffs\")]\n",
    "nba_regular_season['DATASET'] = nba_regular_season['DATASET'].str.replace(\n",
    "    'NBA 2020 Playoffs', '2020 Playoffs')\n",
    "nba_regular_season['DATASET'] = nba_regular_season['DATASET'].str.replace(\n",
    "    'NBA 2019 Playoffs','2019 Playoffs')\n"
   ]
  },
  {
   "cell_type": "code",
   "execution_count": 54,
   "metadata": {},
   "outputs": [
    {
     "name": "stderr",
     "output_type": "stream",
     "text": [
      "<ipython-input-54-47e69cf6e751>:1: SettingWithCopyWarning: \n",
      "A value is trying to be set on a copy of a slice from a DataFrame.\n",
      "Try using .loc[row_indexer,col_indexer] = value instead\n",
      "\n",
      "See the caveats in the documentation: https://pandas.pydata.org/pandas-docs/stable/user_guide/indexing.html#returning-a-view-versus-a-copy\n",
      "  nba_regular_season['REST DAYS'] = nba_regular_season['REST DAYS'].astype('string')\n"
     ]
    }
   ],
   "source": [
    "nba_regular_season['REST DAYS'] = nba_regular_season['REST DAYS'].astype('string')\n",
    "# Create Dummy Variables for 'REST DAYS'\n",
    "nba_regular_season = pd.concat([\n",
    "    nba_regular_season,\n",
    "    pd.get_dummies(nba_regular_season['REST DAYS'])\n",
    "], axis=1)"
   ]
  },
  {
   "cell_type": "code",
   "execution_count": 56,
   "metadata": {},
   "outputs": [
    {
     "ename": "KeyError",
     "evalue": "'TEAMS'",
     "output_type": "error",
     "traceback": [
      "\u001b[1;31m---------------------------------------------------------------------------\u001b[0m",
      "\u001b[1;31mKeyError\u001b[0m                                  Traceback (most recent call last)",
      "\u001b[1;32m<ipython-input-56-22a6532ab843>\u001b[0m in \u001b[0;36m<module>\u001b[1;34m\u001b[0m\n\u001b[0;32m      9\u001b[0m \u001b[1;31m#\u001b[0m\u001b[1;33m\u001b[0m\u001b[1;33m\u001b[0m\u001b[1;33m\u001b[0m\u001b[0m\n\u001b[0;32m     10\u001b[0m \u001b[1;33m\u001b[0m\u001b[0m\n\u001b[1;32m---> 11\u001b[1;33m \u001b[0mnba_regular_season\u001b[0m\u001b[1;33m[\u001b[0m\u001b[0mgame\u001b[0m\u001b[1;33m]\u001b[0m\u001b[1;33m.\u001b[0m\u001b[0mgroupby\u001b[0m\u001b[1;33m(\u001b[0m\u001b[1;33m[\u001b[0m\u001b[1;34m'TEAMS'\u001b[0m\u001b[1;33m]\u001b[0m\u001b[1;33m)\u001b[0m\u001b[1;33m.\u001b[0m\u001b[0mmean\u001b[0m\u001b[1;33m(\u001b[0m\u001b[1;33m)\u001b[0m\u001b[1;33m\u001b[0m\u001b[1;33m\u001b[0m\u001b[0m\n\u001b[0m",
      "\u001b[1;32mC:\\Python39\\lib\\site-packages\\pandas\\core\\frame.py\u001b[0m in \u001b[0;36mgroupby\u001b[1;34m(self, by, axis, level, as_index, sort, group_keys, squeeze, observed, dropna)\u001b[0m\n\u001b[0;32m   7629\u001b[0m         \u001b[1;31m# error: Argument \"squeeze\" to \"DataFrameGroupBy\" has incompatible type\u001b[0m\u001b[1;33m\u001b[0m\u001b[1;33m\u001b[0m\u001b[1;33m\u001b[0m\u001b[0m\n\u001b[0;32m   7630\u001b[0m         \u001b[1;31m# \"Union[bool, NoDefault]\"; expected \"bool\"\u001b[0m\u001b[1;33m\u001b[0m\u001b[1;33m\u001b[0m\u001b[1;33m\u001b[0m\u001b[0m\n\u001b[1;32m-> 7631\u001b[1;33m         return DataFrameGroupBy(\n\u001b[0m\u001b[0;32m   7632\u001b[0m             \u001b[0mobj\u001b[0m\u001b[1;33m=\u001b[0m\u001b[0mself\u001b[0m\u001b[1;33m,\u001b[0m\u001b[1;33m\u001b[0m\u001b[1;33m\u001b[0m\u001b[0m\n\u001b[0;32m   7633\u001b[0m             \u001b[0mkeys\u001b[0m\u001b[1;33m=\u001b[0m\u001b[0mby\u001b[0m\u001b[1;33m,\u001b[0m\u001b[1;33m\u001b[0m\u001b[1;33m\u001b[0m\u001b[0m\n",
      "\u001b[1;32mC:\\Python39\\lib\\site-packages\\pandas\\core\\groupby\\groupby.py\u001b[0m in \u001b[0;36m__init__\u001b[1;34m(self, obj, keys, axis, level, grouper, exclusions, selection, as_index, sort, group_keys, squeeze, observed, mutated, dropna)\u001b[0m\n\u001b[0;32m    887\u001b[0m             \u001b[1;32mfrom\u001b[0m \u001b[0mpandas\u001b[0m\u001b[1;33m.\u001b[0m\u001b[0mcore\u001b[0m\u001b[1;33m.\u001b[0m\u001b[0mgroupby\u001b[0m\u001b[1;33m.\u001b[0m\u001b[0mgrouper\u001b[0m \u001b[1;32mimport\u001b[0m \u001b[0mget_grouper\u001b[0m\u001b[1;33m\u001b[0m\u001b[1;33m\u001b[0m\u001b[0m\n\u001b[0;32m    888\u001b[0m \u001b[1;33m\u001b[0m\u001b[0m\n\u001b[1;32m--> 889\u001b[1;33m             grouper, exclusions, obj = get_grouper(\n\u001b[0m\u001b[0;32m    890\u001b[0m                 \u001b[0mobj\u001b[0m\u001b[1;33m,\u001b[0m\u001b[1;33m\u001b[0m\u001b[1;33m\u001b[0m\u001b[0m\n\u001b[0;32m    891\u001b[0m                 \u001b[0mkeys\u001b[0m\u001b[1;33m,\u001b[0m\u001b[1;33m\u001b[0m\u001b[1;33m\u001b[0m\u001b[0m\n",
      "\u001b[1;32mC:\\Python39\\lib\\site-packages\\pandas\\core\\groupby\\grouper.py\u001b[0m in \u001b[0;36mget_grouper\u001b[1;34m(obj, key, axis, level, sort, observed, mutated, validate, dropna)\u001b[0m\n\u001b[0;32m    860\u001b[0m                 \u001b[0min_axis\u001b[0m\u001b[1;33m,\u001b[0m \u001b[0mlevel\u001b[0m\u001b[1;33m,\u001b[0m \u001b[0mgpr\u001b[0m \u001b[1;33m=\u001b[0m \u001b[1;32mFalse\u001b[0m\u001b[1;33m,\u001b[0m \u001b[0mgpr\u001b[0m\u001b[1;33m,\u001b[0m \u001b[1;32mNone\u001b[0m\u001b[1;33m\u001b[0m\u001b[1;33m\u001b[0m\u001b[0m\n\u001b[0;32m    861\u001b[0m             \u001b[1;32melse\u001b[0m\u001b[1;33m:\u001b[0m\u001b[1;33m\u001b[0m\u001b[1;33m\u001b[0m\u001b[0m\n\u001b[1;32m--> 862\u001b[1;33m                 \u001b[1;32mraise\u001b[0m \u001b[0mKeyError\u001b[0m\u001b[1;33m(\u001b[0m\u001b[0mgpr\u001b[0m\u001b[1;33m)\u001b[0m\u001b[1;33m\u001b[0m\u001b[1;33m\u001b[0m\u001b[0m\n\u001b[0m\u001b[0;32m    863\u001b[0m         \u001b[1;32melif\u001b[0m \u001b[0misinstance\u001b[0m\u001b[1;33m(\u001b[0m\u001b[0mgpr\u001b[0m\u001b[1;33m,\u001b[0m \u001b[0mGrouper\u001b[0m\u001b[1;33m)\u001b[0m \u001b[1;32mand\u001b[0m \u001b[0mgpr\u001b[0m\u001b[1;33m.\u001b[0m\u001b[0mkey\u001b[0m \u001b[1;32mis\u001b[0m \u001b[1;32mnot\u001b[0m \u001b[1;32mNone\u001b[0m\u001b[1;33m:\u001b[0m\u001b[1;33m\u001b[0m\u001b[1;33m\u001b[0m\u001b[0m\n\u001b[0;32m    864\u001b[0m             \u001b[1;31m# Add key to exclusions\u001b[0m\u001b[1;33m\u001b[0m\u001b[1;33m\u001b[0m\u001b[1;33m\u001b[0m\u001b[0m\n",
      "\u001b[1;31mKeyError\u001b[0m: 'TEAMS'"
     ]
    }
   ],
   "source": [
    "game = [ 'DATASET',       'DATE',       'VENUE',      'TEAMS',         '1Q',\n",
    "               '2Q',         '3Q',         '4Q',        'OT1',        'OT2',\n",
    "              'OT3',        'OT4',          'F',        'MIN',         'FG',\n",
    "              'FGA',         '3P',        '3PA',         'FT',        'FTA',\n",
    "               'OR',         'DR',        'TOT',          'A',         'PF',\n",
    "               'ST',         'TO',         'BL',        'PTS',       'POSS',\n",
    "             'PACE',       'OEFF',       'DEFF' ]\n",
    "\n",
    "# \n",
    "\n",
    "nba_regular_season[game].groupby(['TEAMS']).mean()\n"
   ]
  },
  {
   "cell_type": "markdown",
   "metadata": {},
   "source": [
    "Season Statistics -> "
   ]
  }
 ],
 "metadata": {
  "interpreter": {
   "hash": "63fd5069d213b44bf678585dea6b12cceca9941eaf7f819626cde1f2670de90d"
  },
  "kernelspec": {
   "display_name": "Python 3.9.4 64-bit",
   "language": "python",
   "name": "python3"
  },
  "language_info": {
   "codemirror_mode": {
    "name": "ipython",
    "version": 3
   },
   "file_extension": ".py",
   "mimetype": "text/x-python",
   "name": "python",
   "nbconvert_exporter": "python",
   "pygments_lexer": "ipython3",
   "version": "3.9.4"
  },
  "orig_nbformat": 4
 },
 "nbformat": 4,
 "nbformat_minor": 2
}
